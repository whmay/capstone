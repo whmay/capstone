{
  "nbformat": 4,
  "nbformat_minor": 0,
  "metadata": {
    "colab": {
      "name": "landmark.ipynb",
      "version": "0.3.2",
      "provenance": [],
      "collapsed_sections": [],
      "include_colab_link": true
    },
    "kernelspec": {
      "name": "python3",
      "display_name": "Python 3"
    },
    "accelerator": "GPU"
  },
  "cells": [
    {
      "cell_type": "markdown",
      "metadata": {
        "id": "view-in-github",
        "colab_type": "text"
      },
      "source": [
        "[View in Colaboratory](https://colab.research.google.com/github/whmay/capstone/blob/master/landmark2.ipynb)"
      ]
    },
    {
      "metadata": {
        "id": "i8uMPafTBgXr",
        "colab_type": "code",
        "colab": {}
      },
      "cell_type": "code",
      "source": [
        "!apt-get install -y -qq software-properties-common python-software-properties module-init-tools\n",
        "!add-apt-repository -y ppa:alessandro-strada/ppa 2>&1 > /dev/null\n",
        "!apt-get update -qq 2>&1 > /dev/null\n",
        "!apt-get -y install -qq google-drive-ocamlfuse fuse"
      ],
      "execution_count": 0,
      "outputs": []
    },
    {
      "metadata": {
        "id": "qRCkMZEIJr5R",
        "colab_type": "code",
        "colab": {}
      },
      "cell_type": "code",
      "source": [
        "!pip install -U -q PyDrive\n",
        "# Generate auth tokens for Colab\n",
        "from google.colab import auth\n",
        "from pydrive.auth import GoogleAuth\n",
        "from pydrive.drive import GoogleDrive\n",
        "from oauth2client.client import GoogleCredentials\n",
        "auth.authenticate_user()\n",
        "gauth = GoogleAuth()\n",
        "gauth.credentials = GoogleCredentials.get_application_default()\n",
        "drive = GoogleDrive(gauth)"
      ],
      "execution_count": 0,
      "outputs": []
    },
    {
      "metadata": {
        "id": "SaMBpCrnJ5go",
        "colab_type": "code",
        "colab": {}
      },
      "cell_type": "code",
      "source": [
        "# Generate creds for the Drive FUSE library.\n",
        "creds = GoogleCredentials.get_application_default()\n",
        "import getpass\n",
        "!google-drive-ocamlfuse -headless -id={creds.client_id} -secret={creds.client_secret} < /dev/null 2>&1 | grep URL\n",
        "vcode = getpass.getpass()\n",
        "!echo {vcode} | google-drive-ocamlfuse -headless -id={creds.client_id} -secret={creds.client_secret}"
      ],
      "execution_count": 0,
      "outputs": []
    },
    {
      "metadata": {
        "id": "J_HJrADVKHes",
        "colab_type": "code",
        "colab": {}
      },
      "cell_type": "code",
      "source": [
        "# Create a directory and mount Google Drive using that directory.\n",
        "!mkdir -p drive\n",
        "!google-drive-ocamlfuse drive\n",
        "\n",
        "print('Files in Drive:')\n",
        "!ls drive/\n"
      ],
      "execution_count": 0,
      "outputs": []
    },
    {
      "metadata": {
        "id": "2YaYRXskNPcg",
        "colab_type": "code",
        "colab": {}
      },
      "cell_type": "code",
      "source": [
        "!pip install keras\n",
        "!pip install h5py"
      ],
      "execution_count": 0,
      "outputs": []
    },
    {
      "metadata": {
        "id": "6t9oDgkMa0T9",
        "colab_type": "code",
        "colab": {}
      },
      "cell_type": "code",
      "source": [
        "#!pip install -U --force-reinstall --no-dependencies git+https://github.com/datumbox/keras@bugfix/trainable_bn\n",
        "#http://blog.datumbox.com/the-batch-normalization-layer-of-keras-is-broken/"
      ],
      "execution_count": 0,
      "outputs": []
    },
    {
      "metadata": {
        "id": "rHy6IwOiRzOV",
        "colab_type": "code",
        "colab": {
          "base_uri": "https://localhost:8080/",
          "height": 35
        },
        "outputId": "97e789f1-59c5-4d67-e23b-20d500a2d267"
      },
      "cell_type": "code",
      "source": [
        "#check whether you are using GPU\n",
        "import tensorflow as tf\n",
        "tf.test.gpu_device_name()"
      ],
      "execution_count": 7,
      "outputs": [
        {
          "output_type": "execute_result",
          "data": {
            "text/plain": [
              "'/device:GPU:0'"
            ]
          },
          "metadata": {
            "tags": []
          },
          "execution_count": 7
        }
      ]
    },
    {
      "metadata": {
        "id": "riZiRc9HRGxO",
        "colab_type": "code",
        "colab": {
          "base_uri": "https://localhost:8080/",
          "height": 432
        },
        "outputId": "53729e3a-14ea-42d3-d8e2-b3c4ecd4f764"
      },
      "cell_type": "code",
      "source": [
        "!ls drive/Resnet2\n",
        "!cat drive/Resnet2/labels.txt\n"
      ],
      "execution_count": 8,
      "outputs": [
        {
          "output_type": "stream",
          "text": [
            "labels.txt  test  train\n",
            "鸟巢（国家体育场）\n",
            "颐和园\n",
            "雍和宫\n",
            "水立方（国家游泳中心）\n",
            "毛主席纪念堂\n",
            "桃坪羌寨\n",
            "树正瀑布\n",
            "松潘古城\n",
            "恭王府\n",
            "居庸关长城\n",
            "天安门广场\n",
            "圆明园\n",
            "北海公园\n",
            "前门大街\n",
            "凤凰岭自然风景区\n",
            "八达岭长城\n",
            "什刹海\n",
            "人民英雄纪念碑\n",
            "人民大会堂\n",
            "五彩池\n",
            "争艳池\n",
            "九曲黄河第一湾\n",
            "中国国家博物馆"
          ],
          "name": "stdout"
        }
      ]
    },
    {
      "metadata": {
        "id": "Fk1a8oxuEhZG",
        "colab_type": "code",
        "colab": {}
      },
      "cell_type": "code",
      "source": [
        "!pip install -U coremltools"
      ],
      "execution_count": 0,
      "outputs": []
    },
    {
      "metadata": {
        "id": "fIY2vRbwjLnD",
        "colab_type": "code",
        "colab": {
          "base_uri": "https://localhost:8080/",
          "height": 69
        },
        "outputId": "6b460115-091e-4597-8bf3-4d00121c459a"
      },
      "cell_type": "code",
      "source": [
        "from keras.applications.resnet50 import ResNet50\n",
        "from keras.models import Model,load_model\n",
        "from keras.layers import Dense,GlobalAveragePooling2D,Input\n",
        "from keras.preprocessing.image import ImageDataGenerator\n",
        "from keras.optimizers import Adadelta\n",
        "import keras\n",
        "import math, os, sys\n",
        "import matplotlib.pyplot as plt\n",
        "import coremltools\n",
        "\n",
        "\n",
        "\n",
        "def get_model():\n",
        "  \n",
        "    input_tensor = Input(shape=(224, 224, 3))  # this assumes K.image_data_format() == 'channels_last'\n",
        "\n",
        "    # create the base pre-trained model\n",
        "    base_model = ResNet50(input_tensor=input_tensor,weights='imagenet',include_top=False)\n",
        "    \n",
        "    #base_model = ResNet50(input_tensor=None,weights='imagenet',include_top=False)\n",
        "\n",
        "    for layer in base_model.layers:\n",
        "        layer.trainable=False\n",
        "\n",
        "    x = base_model.output\n",
        "    x = GlobalAveragePooling2D(data_format='channels_last')(x)\n",
        "    x = Dense(num_classes, activation='softmax')(x)\n",
        "\n",
        "    updatedModel = Model(base_model.input, x)\n",
        "\n",
        "    return  updatedModel\n",
        "\n",
        "\n",
        "\n",
        "def compile_model(compiledModel):\n",
        "\n",
        "    compiledModel.compile(loss=keras.losses.categorical_crossentropy,\n",
        "                  optimizer=Adadelta(),\n",
        "                  metrics=['accuracy'])\n",
        "\n",
        "\n",
        "def modelFitGenerator(fitModel):\n",
        "\n",
        "    num_train_samples = sum([len(files) for r, d, files in os.walk(train_data_dir)])\n",
        "    num_valid_samples = sum([len(files) for r, d, files in os.walk(validation_data_dir)])\n",
        "\n",
        "    num_train_steps = math.floor(num_train_samples/batch_size)\n",
        "    num_valid_steps = math.floor(num_valid_samples/batch_size)\n",
        "    \n",
        "    train_datagen = ImageDataGenerator(  \n",
        "      rotation_range=90,      \n",
        "      horizontal_flip=True,    \n",
        "      vertical_flip=True,\n",
        "      zoom_range=0.4)\n",
        "\n",
        "    test_datagen = ImageDataGenerator()\n",
        "\n",
        "    train_generator = train_datagen.flow_from_directory(\n",
        "      train_data_dir,\n",
        "      target_size=image_size ,\n",
        "      batch_size=batch_size,\n",
        "      class_mode='categorical', shuffle=True\n",
        "    )\n",
        "\n",
        "    validation_generator = test_datagen.flow_from_directory(\n",
        "      validation_data_dir,\n",
        "      target_size=image_size ,\n",
        "      batch_size=batch_size,\n",
        "      class_mode='categorical', shuffle=True\n",
        "    )\n",
        "\n",
        "    print(\"start history model\")\n",
        "    history = fitModel.fit_generator(\n",
        "      train_generator,\n",
        "      steps_per_epoch=num_train_steps,\n",
        "      epochs=nb_epoch,\n",
        "      validation_data=validation_generator,\n",
        "      validation_steps=num_valid_steps)\n",
        "    \n",
        "    printGraph(history)\n",
        "\n",
        "def printGraph(history):\n",
        "    \n",
        "    plt.plot(history.history['acc'])\n",
        "    plt.plot(history.history['val_acc'])\n",
        "    plt.title('model accuracy')\n",
        "    plt.ylabel('accuracy')\n",
        "    plt.xlabel('epoch')\n",
        "    plt.legend(['train', 'test'], loc='upper left')\n",
        "    plt.show()\n",
        "    # summarize history for loss\n",
        "    plt.plot(history.history['loss'])\n",
        "    plt.plot(history.history['val_loss'])\n",
        "    plt.title('model loss')\n",
        "    plt.ylabel('loss')\n",
        "    plt.xlabel('epoch')\n",
        "    plt.legend(['train', 'test'], loc='upper left')\n",
        "    plt.show()\n",
        "     \n",
        "    \n",
        "# def main():\n",
        "#     model = get_model()\n",
        "#     compile_model(model)\n",
        "#     modelFitGenerator(model)\n",
        "#     saveCoreMLModel(model)\n",
        "\n",
        "\n",
        "# if __name__ == '__main__':\n",
        "#     # constants\n",
        "#     image_size = (224, 224)\n",
        "#     train_data_dir = 'drive/Resnet/landmark/train' \n",
        "#     validation_data_dir = 'drive/Resnet/landmark/test'\n",
        "#     nb_epoch = 50\n",
        "#     batch_size = 16\n",
        "#     num_classes = 2\n",
        "#     main()\n"
      ],
      "execution_count": 10,
      "outputs": [
        {
          "output_type": "stream",
          "text": [
            "Using TensorFlow backend.\n",
            "WARNING:root:Keras version 2.1.6 detected. Last version known to be fully compatible of Keras is 2.1.3 .\n",
            "WARNING:root:TensorFlow version 1.10.1 detected. Last version known to be fully compatible is 1.5.0 .\n"
          ],
          "name": "stderr"
        }
      ]
    },
    {
      "metadata": {
        "id": "DoMZuvA39Lbl",
        "colab_type": "code",
        "colab": {}
      },
      "cell_type": "code",
      "source": [
        "image_size = (224, 224)\n",
        "train_data_dir = 'drive/Resnet2/train' \n",
        "validation_data_dir = 'drive/Resnet2/test'\n",
        "nb_epoch = 50\n",
        "batch_size = 16\n",
        "num_classes = 23"
      ],
      "execution_count": 0,
      "outputs": []
    },
    {
      "metadata": {
        "id": "wjV5n__69fpV",
        "colab_type": "code",
        "colab": {
          "base_uri": "https://localhost:8080/",
          "height": 2515
        },
        "outputId": "9641a655-0de0-4f7d-c492-173feeff3d87"
      },
      "cell_type": "code",
      "source": [
        "model = get_model()\n",
        "compile_model(model)\n",
        "modelFitGenerator(model)"
      ],
      "execution_count": 18,
      "outputs": [
        {
          "output_type": "stream",
          "text": [
            "Found 1637 images belonging to 23 classes.\n",
            "Found 406 images belonging to 23 classes.\n",
            "start history model\n",
            "Epoch 1/50\n",
            "103/103 [==============================] - 260s 3s/step - loss: 2.2763 - acc: 0.3436 - val_loss: 1.8746 - val_acc: 0.4325\n",
            "Epoch 2/50\n",
            "103/103 [==============================] - 246s 2s/step - loss: 1.3372 - acc: 0.5968 - val_loss: 1.8470 - val_acc: 0.4875\n",
            "Epoch 3/50\n",
            "103/103 [==============================] - 242s 2s/step - loss: 1.0998 - acc: 0.6691 - val_loss: 1.5128 - val_acc: 0.5475\n",
            "Epoch 4/50\n",
            "103/103 [==============================] - 245s 2s/step - loss: 0.9767 - acc: 0.6769 - val_loss: 1.5388 - val_acc: 0.5375\n",
            "Epoch 5/50\n",
            "103/103 [==============================] - 249s 2s/step - loss: 0.8707 - acc: 0.7364 - val_loss: 1.5656 - val_acc: 0.5400\n",
            "Epoch 6/50\n",
            "103/103 [==============================] - 248s 2s/step - loss: 0.8260 - acc: 0.7407 - val_loss: 1.6119 - val_acc: 0.5150\n",
            "Epoch 7/50\n",
            "103/103 [==============================] - 244s 2s/step - loss: 0.7585 - acc: 0.7584 - val_loss: 1.4311 - val_acc: 0.5725\n",
            "Epoch 8/50\n",
            "103/103 [==============================] - 245s 2s/step - loss: 0.7653 - acc: 0.7487 - val_loss: 1.5104 - val_acc: 0.5700\n",
            "Epoch 9/50\n",
            "103/103 [==============================] - 247s 2s/step - loss: 0.7255 - acc: 0.7662 - val_loss: 1.3184 - val_acc: 0.6125\n",
            "Epoch 10/50\n",
            "103/103 [==============================] - 245s 2s/step - loss: 0.6753 - acc: 0.7846 - val_loss: 1.5731 - val_acc: 0.5475\n",
            "Epoch 11/50\n",
            "103/103 [==============================] - 248s 2s/step - loss: 0.6520 - acc: 0.7995 - val_loss: 1.5062 - val_acc: 0.5700\n",
            "Epoch 12/50\n",
            "103/103 [==============================] - 246s 2s/step - loss: 0.6139 - acc: 0.7897 - val_loss: 1.5692 - val_acc: 0.5500\n",
            "Epoch 13/50\n",
            "103/103 [==============================] - 245s 2s/step - loss: 0.5940 - acc: 0.8067 - val_loss: 1.3974 - val_acc: 0.5850\n",
            "Epoch 14/50\n",
            "103/103 [==============================] - 245s 2s/step - loss: 0.5922 - acc: 0.8130 - val_loss: 1.4103 - val_acc: 0.5850\n",
            "Epoch 15/50\n",
            "103/103 [==============================] - 246s 2s/step - loss: 0.5850 - acc: 0.8006 - val_loss: 1.4881 - val_acc: 0.5900\n",
            "Epoch 16/50\n",
            "103/103 [==============================] - 248s 2s/step - loss: 0.5771 - acc: 0.8033 - val_loss: 1.3135 - val_acc: 0.6275\n",
            "Epoch 17/50\n",
            "103/103 [==============================] - 249s 2s/step - loss: 0.5481 - acc: 0.8210 - val_loss: 1.4637 - val_acc: 0.5775\n",
            "Epoch 18/50\n",
            "103/103 [==============================] - 246s 2s/step - loss: 0.5305 - acc: 0.8274 - val_loss: 1.8159 - val_acc: 0.5600\n",
            "Epoch 19/50\n",
            "103/103 [==============================] - 246s 2s/step - loss: 0.5386 - acc: 0.8166 - val_loss: 1.5278 - val_acc: 0.5875\n",
            "Epoch 20/50\n",
            "103/103 [==============================] - 244s 2s/step - loss: 0.5389 - acc: 0.8228 - val_loss: 1.4878 - val_acc: 0.5975\n",
            "Epoch 21/50\n",
            "103/103 [==============================] - 247s 2s/step - loss: 0.5120 - acc: 0.8335 - val_loss: 1.4821 - val_acc: 0.6075\n",
            "Epoch 22/50\n",
            "103/103 [==============================] - 253s 2s/step - loss: 0.5036 - acc: 0.8347 - val_loss: 1.5630 - val_acc: 0.5850\n",
            "Epoch 23/50\n",
            "103/103 [==============================] - 254s 2s/step - loss: 0.4854 - acc: 0.8372 - val_loss: 1.4457 - val_acc: 0.6175\n",
            "Epoch 24/50\n",
            "103/103 [==============================] - 254s 2s/step - loss: 0.4700 - acc: 0.8507 - val_loss: 1.4766 - val_acc: 0.6075\n",
            "Epoch 25/50\n",
            "103/103 [==============================] - 253s 2s/step - loss: 0.4906 - acc: 0.8385 - val_loss: 1.3580 - val_acc: 0.6225\n",
            "Epoch 26/50\n",
            "103/103 [==============================] - 255s 2s/step - loss: 0.4556 - acc: 0.8554 - val_loss: 1.6553 - val_acc: 0.5925\n",
            "Epoch 27/50\n",
            "103/103 [==============================] - 254s 2s/step - loss: 0.4270 - acc: 0.8458 - val_loss: 1.4509 - val_acc: 0.6300\n",
            "Epoch 28/50\n",
            "103/103 [==============================] - 249s 2s/step - loss: 0.4427 - acc: 0.8464 - val_loss: 1.4809 - val_acc: 0.6075\n",
            "Epoch 29/50\n",
            "103/103 [==============================] - 251s 2s/step - loss: 0.4164 - acc: 0.8629 - val_loss: 1.5764 - val_acc: 0.5875\n",
            "Epoch 30/50\n",
            "103/103 [==============================] - 249s 2s/step - loss: 0.4329 - acc: 0.8530 - val_loss: 1.4524 - val_acc: 0.6100\n",
            "Epoch 31/50\n",
            "103/103 [==============================] - 248s 2s/step - loss: 0.4244 - acc: 0.8506 - val_loss: 1.5268 - val_acc: 0.6200\n",
            "Epoch 32/50\n",
            "103/103 [==============================] - 254s 2s/step - loss: 0.4235 - acc: 0.8577 - val_loss: 1.5298 - val_acc: 0.6125\n",
            "Epoch 33/50\n",
            "103/103 [==============================] - 247s 2s/step - loss: 0.3986 - acc: 0.8676 - val_loss: 1.5125 - val_acc: 0.6200\n",
            "Epoch 34/50\n",
            "103/103 [==============================] - 255s 2s/step - loss: 0.4027 - acc: 0.8604 - val_loss: 1.4099 - val_acc: 0.6275\n",
            "Epoch 35/50\n",
            "103/103 [==============================] - 254s 2s/step - loss: 0.4020 - acc: 0.8506 - val_loss: 1.4603 - val_acc: 0.6150\n",
            "Epoch 36/50\n",
            "103/103 [==============================] - 249s 2s/step - loss: 0.4022 - acc: 0.8706 - val_loss: 1.6430 - val_acc: 0.6050\n",
            "Epoch 37/50\n",
            "103/103 [==============================] - 250s 2s/step - loss: 0.3766 - acc: 0.8731 - val_loss: 1.7176 - val_acc: 0.5850\n",
            "Epoch 38/50\n",
            "103/103 [==============================] - 254s 2s/step - loss: 0.3826 - acc: 0.8725 - val_loss: 1.5759 - val_acc: 0.6225\n",
            "Epoch 39/50\n",
            "103/103 [==============================] - 251s 2s/step - loss: 0.3960 - acc: 0.8731 - val_loss: 1.4066 - val_acc: 0.6425\n",
            "Epoch 40/50\n",
            "103/103 [==============================] - 252s 2s/step - loss: 0.3717 - acc: 0.8744 - val_loss: 1.5076 - val_acc: 0.6225\n",
            "Epoch 41/50\n",
            "103/103 [==============================] - 251s 2s/step - loss: 0.3840 - acc: 0.8676 - val_loss: 1.6051 - val_acc: 0.6050\n",
            "Epoch 42/50\n",
            "103/103 [==============================] - 251s 2s/step - loss: 0.3631 - acc: 0.8819 - val_loss: 1.6689 - val_acc: 0.6225\n",
            "Epoch 43/50\n",
            "103/103 [==============================] - 253s 2s/step - loss: 0.3719 - acc: 0.8711 - val_loss: 1.5442 - val_acc: 0.6350\n",
            "Epoch 44/50\n",
            "103/103 [==============================] - 256s 2s/step - loss: 0.3667 - acc: 0.8774 - val_loss: 1.7153 - val_acc: 0.5950\n",
            "Epoch 45/50\n",
            "103/103 [==============================] - 255s 2s/step - loss: 0.3396 - acc: 0.8852 - val_loss: 1.7204 - val_acc: 0.5900\n",
            "Epoch 46/50\n",
            "103/103 [==============================] - 256s 2s/step - loss: 0.3643 - acc: 0.8760 - val_loss: 1.5651 - val_acc: 0.6300\n",
            "Epoch 47/50\n",
            "103/103 [==============================] - 250s 2s/step - loss: 0.3400 - acc: 0.8811 - val_loss: 1.4306 - val_acc: 0.6450\n",
            "Epoch 48/50\n",
            "103/103 [==============================] - 247s 2s/step - loss: 0.3556 - acc: 0.8772 - val_loss: 1.6420 - val_acc: 0.6050\n",
            "Epoch 49/50\n",
            "103/103 [==============================] - 250s 2s/step - loss: 0.3224 - acc: 0.8902 - val_loss: 1.4914 - val_acc: 0.6475\n",
            "Epoch 50/50\n",
            "103/103 [==============================] - 250s 2s/step - loss: 0.3332 - acc: 0.8887 - val_loss: 1.5390 - val_acc: 0.6325\n"
          ],
          "name": "stdout"
        },
        {
          "output_type": "display_data",
          "data": {
            "image/png": "[encoded data removed]",
            "text/plain": [
              "<matplotlib.figure.Figure at 0x7fce2a1c49b0>"
            ]
          },
          "metadata": {
            "tags": []
          }
        },
        {
          "output_type": "display_data",
          "data": {
            "image/png": "[encoded data removed]",
            "text/plain": [
              "<matplotlib.figure.Figure at 0x7fce355ece80>"
            ]
          },
          "metadata": {
            "tags": []
          }
        }
      ]
    },
    {
      "metadata": {
        "id": "FSnGmK1o9lYh",
        "colab_type": "code",
        "colab": {
          "base_uri": "https://localhost:8080/",
          "height": 3109
        },
        "outputId": "d97f9cac-9c6c-4396-c4c9-ba34517c23d3"
      },
      "cell_type": "code",
      "source": [
        "def saveCoreMLModel(kerasModel):\n",
        "    coreml_model = coremltools.converters.keras.convert(kerasModel,\n",
        "                                                    input_names=['input'],\n",
        "                                                    output_names=['probs'],\n",
        "                                                    image_input_names='input',\n",
        "                                                    predicted_feature_name='predictedMoney',\n",
        "                                                    class_labels = 'drive/Resnet2/labels.txt')\n",
        "    coreml_model.save('resnet50custom.mlmodel') \n",
        "    print('CoreML model saved')\n",
        "    \n",
        "saveCoreMLModel(model)"
      ],
      "execution_count": 15,
      "outputs": [
        {
          "output_type": "stream",
          "text": [
            "0 : input_3, <keras.engine.topology.InputLayer object at 0x7fce5cece940>\n",
            "1 : conv1_pad, <keras.layers.convolutional.ZeroPadding2D object at 0x7fce5cece128>\n",
            "2 : conv1, <keras.layers.convolutional.Conv2D object at 0x7fce5cecebe0>\n",
            "3 : bn_conv1, <keras.layers.normalization.BatchNormalization object at 0x7fce5cece5f8>\n",
            "4 : activation_99, <keras.layers.core.Activation object at 0x7fce5cecef28>\n",
            "5 : max_pooling2d_3, <keras.layers.pooling.MaxPooling2D object at 0x7fce5cf1d898>\n",
            "6 : res2a_branch2a, <keras.layers.convolutional.Conv2D object at 0x7fce5cf1d3c8>\n",
            "7 : bn2a_branch2a, <keras.layers.normalization.BatchNormalization object at 0x7fce3d98b438>\n",
            "8 : activation_100, <keras.layers.core.Activation object at 0x7fce3d94e1d0>\n",
            "9 : res2a_branch2b, <keras.layers.convolutional.Conv2D object at 0x7fce3d9237b8>\n",
            "10 : bn2a_branch2b, <keras.layers.normalization.BatchNormalization object at 0x7fce3d923048>\n",
            "11 : activation_101, <keras.layers.core.Activation object at 0x7fce3d86f0b8>\n",
            "12 : res2a_branch2c, <keras.layers.convolutional.Conv2D object at 0x7fce3d813358>\n",
            "13 : res2a_branch1, <keras.layers.convolutional.Conv2D object at 0x7fce3d7ce828>\n",
            "14 : bn2a_branch2c, <keras.layers.normalization.BatchNormalization object at 0x7fce3d813208>\n",
            "15 : bn2a_branch1, <keras.layers.normalization.BatchNormalization object at 0x7fce3d75b470>\n",
            "16 : add_33, <keras.layers.merge.Add object at 0x7fce3d7037f0>\n",
            "17 : activation_102, <keras.layers.core.Activation object at 0x7fce3d651518>\n",
            "18 : res2b_branch2a, <keras.layers.convolutional.Conv2D object at 0x7fce3d6516a0>\n",
            "19 : bn2b_branch2a, <keras.layers.normalization.BatchNormalization object at 0x7fce3d613f98>\n",
            "20 : activation_103, <keras.layers.core.Activation object at 0x7fce3d5aa438>\n",
            "21 : res2b_branch2b, <keras.layers.convolutional.Conv2D object at 0x7fce3d54d518>\n",
            "22 : bn2b_branch2b, <keras.layers.normalization.BatchNormalization object at 0x7fce3d54d3c8>\n",
            "23 : activation_104, <keras.layers.core.Activation object at 0x7fce3d5099e8>\n",
            "24 : res2b_branch2c, <keras.layers.convolutional.Conv2D object at 0x7fce3d49ab70>\n",
            "25 : bn2b_branch2c, <keras.layers.normalization.BatchNormalization object at 0x7fce3d4c3080>\n",
            "26 : add_34, <keras.layers.merge.Add object at 0x7fce3d47dda0>\n",
            "27 : activation_105, <keras.layers.core.Activation object at 0x7fce3d38f1d0>\n",
            "28 : res2c_branch2a, <keras.layers.convolutional.Conv2D object at 0x7fce3d38f710>\n",
            "29 : bn2c_branch2a, <keras.layers.normalization.BatchNormalization object at 0x7fce3d3b6c18>\n",
            "30 : activation_106, <keras.layers.core.Activation object at 0x7fce3cb31940>\n",
            "31 : res2c_branch2b, <keras.layers.convolutional.Conv2D object at 0x7fce3ca45d30>\n",
            "32 : bn2c_branch2b, <keras.layers.normalization.BatchNormalization object at 0x7fce3ca45438>\n",
            "33 : activation_107, <keras.layers.core.Activation object at 0x7fce3c99c160>\n",
            "34 : res2c_branch2c, <keras.layers.convolutional.Conv2D object at 0x7fce3c9444e0>\n",
            "35 : bn2c_branch2c, <keras.layers.normalization.BatchNormalization object at 0x7fce3c944390>\n",
            "36 : add_35, <keras.layers.merge.Add object at 0x7fce3c97a9b0>\n",
            "37 : activation_108, <keras.layers.core.Activation object at 0x7fce3c8b3128>\n",
            "38 : res3a_branch2a, <keras.layers.convolutional.Conv2D object at 0x7fce3c84a080>\n",
            "39 : bn3a_branch2a, <keras.layers.normalization.BatchNormalization object at 0x7fce3c8b3240>\n",
            "40 : activation_109, <keras.layers.core.Activation object at 0x7fce3c86fe80>\n",
            "41 : res3a_branch2b, <keras.layers.convolutional.Conv2D object at 0x7fce3c801d68>\n",
            "42 : bn3a_branch2b, <keras.layers.normalization.BatchNormalization object at 0x7fce3c801860>\n",
            "43 : activation_110, <keras.layers.core.Activation object at 0x7fce3c765b38>\n",
            "44 : res3a_branch2c, <keras.layers.convolutional.Conv2D object at 0x7fce3c6f9f60>\n",
            "45 : res3a_branch1, <keras.layers.convolutional.Conv2D object at 0x7fce3c5ce128>\n",
            "46 : bn3a_branch2c, <keras.layers.normalization.BatchNormalization object at 0x7fce3c6f97b8>\n",
            "47 : bn3a_branch1, <keras.layers.normalization.BatchNormalization object at 0x7fce3c5f6400>\n",
            "48 : add_36, <keras.layers.merge.Add object at 0x7fce3c5adf98>\n",
            "49 : activation_111, <keras.layers.core.Activation object at 0x7fce3c542208>\n",
            "50 : res3b_branch2a, <keras.layers.convolutional.Conv2D object at 0x7fce3c542198>\n",
            "51 : bn3b_branch2a, <keras.layers.normalization.BatchNormalization object at 0x7fce3c4e99e8>\n",
            "52 : activation_112, <keras.layers.core.Activation object at 0x7fce3c4a3cc0>\n",
            "53 : res3b_branch2b, <keras.layers.convolutional.Conv2D object at 0x7fce3c437ef0>\n",
            "54 : bn3b_branch2b, <keras.layers.normalization.BatchNormalization object at 0x7fce3c4375f8>\n",
            "55 : activation_113, <keras.layers.core.Activation object at 0x7fce3c3998d0>\n",
            "56 : res3b_branch2c, <keras.layers.convolutional.Conv2D object at 0x7fce3c3306a0>\n",
            "57 : bn3b_branch2c, <keras.layers.normalization.BatchNormalization object at 0x7fce3c330550>\n",
            "58 : add_37, <keras.layers.merge.Add object at 0x7fce3c283b38>\n",
            "59 : activation_114, <keras.layers.core.Activation object at 0x7fce3c22b198>\n",
            "60 : res3c_branch2a, <keras.layers.convolutional.Conv2D object at 0x7fce3c22b0f0>\n",
            "61 : bn3c_branch2a, <keras.layers.normalization.BatchNormalization object at 0x7fce3c242fd0>\n",
            "62 : activation_115, <keras.layers.core.Activation object at 0x7fce3c1894a8>\n",
            "63 : res3c_branch2b, <keras.layers.convolutional.Conv2D object at 0x7fce3c176e48>\n",
            "64 : bn3c_branch2b, <keras.layers.normalization.BatchNormalization object at 0x7fce3c1766a0>\n",
            "65 : activation_116, <keras.layers.core.Activation object at 0x7fce3d9d6160>\n",
            "66 : res3c_branch2c, <keras.layers.convolutional.Conv2D object at 0x7fce3dc81390>\n",
            "67 : bn3c_branch2c, <keras.layers.normalization.BatchNormalization object at 0x7fce3dc81c50>\n",
            "68 : add_38, <keras.layers.merge.Add object at 0x7fce3dc6a080>\n",
            "69 : activation_117, <keras.layers.core.Activation object at 0x7fce3dc579e8>\n",
            "70 : res3d_branch2a, <keras.layers.convolutional.Conv2D object at 0x7fce3dc57b70>\n",
            "71 : bn3d_branch2a, <keras.layers.normalization.BatchNormalization object at 0x7fce3dc617b8>\n",
            "72 : activation_118, <keras.layers.core.Activation object at 0x7fce3dcc2d68>\n",
            "73 : res3d_branch2b, <keras.layers.convolutional.Conv2D object at 0x7fce3dc99518>\n",
            "74 : bn3d_branch2b, <keras.layers.normalization.BatchNormalization object at 0x7fce3dc99a58>\n",
            "75 : activation_119, <keras.layers.core.Activation object at 0x7fce3dcfa0f0>\n",
            "76 : res3d_branch2c, <keras.layers.convolutional.Conv2D object at 0x7fce3dcd2550>\n",
            "77 : bn3d_branch2c, <keras.layers.normalization.BatchNormalization object at 0x7fce3dcc8fd0>\n",
            "78 : add_39, <keras.layers.merge.Add object at 0x7fce3dd0df98>\n",
            "79 : activation_120, <keras.layers.core.Activation object at 0x7fce3dd80a90>\n",
            "80 : res4a_branch2a, <keras.layers.convolutional.Conv2D object at 0x7fce3dd80b38>\n",
            "81 : bn4a_branch2a, <keras.layers.normalization.BatchNormalization object at 0x7fce3dd78e48>\n",
            "82 : activation_121, <keras.layers.core.Activation object at 0x7fce3dd63828>\n",
            "83 : res4a_branch2b, <keras.layers.convolutional.Conv2D object at 0x7fce3ddbcb38>\n",
            "84 : bn4a_branch2b, <keras.layers.normalization.BatchNormalization object at 0x7fce3ddbcf98>\n",
            "85 : activation_122, <keras.layers.core.Activation object at 0x7fce3dd9d7b8>\n",
            "86 : res4a_branch2c, <keras.layers.convolutional.Conv2D object at 0x7fce3ddf5588>\n",
            "87 : res4a_branch1, <keras.layers.convolutional.Conv2D object at 0x7fce4246ee10>\n",
            "88 : bn4a_branch2c, <keras.layers.normalization.BatchNormalization object at 0x7fce3dde92e8>\n",
            "89 : bn4a_branch1, <keras.layers.normalization.BatchNormalization object at 0x7fce424658d0>\n",
            "90 : add_40, <keras.layers.merge.Add object at 0x7fce424519b0>\n",
            "91 : activation_123, <keras.layers.core.Activation object at 0x7fce42494828>\n",
            "92 : res4b_branch2a, <keras.layers.convolutional.Conv2D object at 0x7fce424945c0>\n",
            "93 : bn4b_branch2a, <keras.layers.normalization.BatchNormalization object at 0x7fce4249e9b0>\n",
            "94 : activation_124, <keras.layers.core.Activation object at 0x7fce424d8d68>\n",
            "95 : res4b_branch2b, <keras.layers.convolutional.Conv2D object at 0x7fce424ce9b0>\n",
            "96 : bn4b_branch2b, <keras.layers.normalization.BatchNormalization object at 0x7fce424cec50>\n",
            "97 : activation_125, <keras.layers.core.Activation object at 0x7fce4252e5c0>\n",
            "98 : res4b_branch2c, <keras.layers.convolutional.Conv2D object at 0x7fce42587278>\n",
            "99 : bn4b_branch2c, <keras.layers.normalization.BatchNormalization object at 0x7fce42587dd8>\n",
            "100 : add_41, <keras.layers.merge.Add object at 0x7fce42566cf8>\n",
            "101 : activation_126, <keras.layers.core.Activation object at 0x7fce425becc0>\n",
            "102 : res4c_branch2a, <keras.layers.convolutional.Conv2D object at 0x7fce425ac978>\n",
            "103 : bn4c_branch2a, <keras.layers.normalization.BatchNormalization object at 0x7fce425a1860>\n",
            "104 : activation_127, <keras.layers.core.Activation object at 0x7fce42596cf8>\n",
            "105 : res4c_branch2b, <keras.layers.convolutional.Conv2D object at 0x7fce425ed128>\n",
            "106 : bn4c_branch2b, <keras.layers.normalization.BatchNormalization object at 0x7fce425edc18>\n",
            "107 : activation_128, <keras.layers.core.Activation object at 0x7fce425cecc0>\n",
            "108 : res4c_branch2c, <keras.layers.convolutional.Conv2D object at 0x7fce42625b00>\n",
            "109 : bn4c_branch2c, <keras.layers.normalization.BatchNormalization object at 0x7fce42625b38>\n",
            "110 : add_42, <keras.layers.merge.Add object at 0x7fce4265e2e8>\n",
            "111 : activation_129, <keras.layers.core.Activation object at 0x7fce42653ef0>\n",
            "112 : res4d_branch2a, <keras.layers.convolutional.Conv2D object at 0x7fce42653f98>\n",
            "113 : bn4d_branch2a, <keras.layers.normalization.BatchNormalization object at 0x7fce4264c160>\n",
            "114 : activation_130, <keras.layers.core.Activation object at 0x7fce426b7cf8>\n",
            "115 : res4d_branch2b, <keras.layers.convolutional.Conv2D object at 0x7fce4268f320>\n",
            "116 : bn4d_branch2b, <keras.layers.normalization.BatchNormalization object at 0x7fce4268f9b0>\n",
            "117 : activation_131, <keras.layers.core.Activation object at 0x7fce426ee588>\n",
            "118 : res4d_branch2c, <keras.layers.convolutional.Conv2D object at 0x7fce42745438>\n",
            "119 : bn4d_branch2c, <keras.layers.normalization.BatchNormalization object at 0x7fce4273c198>\n",
            "120 : add_43, <keras.layers.merge.Add object at 0x7fce427285c0>\n",
            "121 : activation_132, <keras.layers.core.Activation object at 0x7fce42773860>\n",
            "122 : res4e_branch2a, <keras.layers.convolutional.Conv2D object at 0x7fce427736d8>\n",
            "123 : bn4e_branch2a, <keras.layers.normalization.BatchNormalization object at 0x7fce4276c0f0>\n",
            "124 : activation_133, <keras.layers.core.Activation object at 0x7fce427585c0>\n",
            "125 : res4e_branch2b, <keras.layers.convolutional.Conv2D object at 0x7fce427af7f0>\n",
            "126 : bn4e_branch2b, <keras.layers.normalization.BatchNormalization object at 0x7fce427a3c88>\n",
            "127 : activation_134, <keras.layers.core.Activation object at 0x7fce427ed6d8>\n",
            "128 : res4e_branch2c, <keras.layers.convolutional.Conv2D object at 0x7fce427e4c18>\n",
            "129 : bn4e_branch2c, <keras.layers.normalization.BatchNormalization object at 0x7fce427e4d30>\n",
            "130 : add_44, <keras.layers.merge.Add object at 0x7fce428479e8>\n",
            "131 : activation_135, <keras.layers.core.Activation object at 0x7fce42823a20>\n",
            "132 : res4f_branch2a, <keras.layers.convolutional.Conv2D object at 0x7fce42823898>\n",
            "133 : bn4f_branch2a, <keras.layers.normalization.BatchNormalization object at 0x7fce42819e48>\n",
            "134 : activation_136, <keras.layers.core.Activation object at 0x7fce428615c0>\n",
            "135 : res4f_branch2b, <keras.layers.convolutional.Conv2D object at 0x7fce42858a90>\n",
            "136 : bn4f_branch2b, <keras.layers.normalization.BatchNormalization object at 0x7fce42858be0>\n",
            "137 : activation_137, <keras.layers.core.Activation object at 0x7fce428c50b8>\n",
            "138 : res4f_branch2c, <keras.layers.convolutional.Conv2D object at 0x7fce42896320>\n",
            "139 : bn4f_branch2c, <keras.layers.normalization.BatchNormalization object at 0x7fce428968d0>\n",
            "140 : add_45, <keras.layers.merge.Add object at 0x7fce428fa240>\n",
            "141 : activation_138, <keras.layers.core.Activation object at 0x7fce428d5438>\n",
            "142 : res5a_branch2a, <keras.layers.convolutional.Conv2D object at 0x7fce42942128>\n",
            "143 : bn5a_branch2a, <keras.layers.normalization.BatchNormalization object at 0x7fce428d5b38>\n",
            "144 : activation_139, <keras.layers.core.Activation object at 0x7fce4292ef28>\n",
            "145 : res5a_branch2b, <keras.layers.convolutional.Conv2D object at 0x7fce4290b828>\n",
            "146 : bn5a_branch2b, <keras.layers.normalization.BatchNormalization object at 0x7fce4290ba58>\n",
            "147 : activation_140, <keras.layers.core.Activation object at 0x7fce4296d5c0>\n",
            "148 : res5a_branch2c, <keras.layers.convolutional.Conv2D object at 0x7fce429c72e8>\n",
            "149 : res5a_branch1, <keras.layers.convolutional.Conv2D object at 0x7fce429ac630>\n",
            "150 : bn5a_branch2c, <keras.layers.normalization.BatchNormalization object at 0x7fce429c79e8>\n",
            "151 : bn5a_branch1, <keras.layers.normalization.BatchNormalization object at 0x7fce429fcdd8>\n",
            "152 : add_46, <keras.layers.merge.Add object at 0x7fce42a47518>\n",
            "153 : activation_141, <keras.layers.core.Activation object at 0x7fce42a3c3c8>\n",
            "154 : res5b_branch2a, <keras.layers.convolutional.Conv2D object at 0x7fce42a3c470>\n",
            "155 : bn5b_branch2a, <keras.layers.normalization.BatchNormalization object at 0x7fce42a33908>\n",
            "156 : activation_142, <keras.layers.core.Activation object at 0x7fce42a214a8>\n",
            "157 : res5b_branch2b, <keras.layers.convolutional.Conv2D object at 0x7fce42a7c780>\n",
            "158 : bn5b_branch2b, <keras.layers.normalization.BatchNormalization object at 0x7fce42a72c18>\n",
            "159 : activation_143, <keras.layers.core.Activation object at 0x7fce42a56860>\n",
            "160 : res5b_branch2c, <keras.layers.convolutional.Conv2D object at 0x7fce42ab0a20>\n",
            "161 : bn5b_branch2c, <keras.layers.normalization.BatchNormalization object at 0x7fce42ab0ba8>\n",
            "162 : add_47, <keras.layers.merge.Add object at 0x7fce42a94da0>\n",
            "163 : activation_144, <keras.layers.core.Activation object at 0x7fce42aefb00>\n",
            "164 : res5c_branch2a, <keras.layers.convolutional.Conv2D object at 0x7fce42aefd30>\n",
            "165 : bn5c_branch2a, <keras.layers.normalization.BatchNormalization object at 0x7fce42ae64e0>\n",
            "166 : activation_145, <keras.layers.core.Activation object at 0x7fce42b2ed68>\n",
            "167 : res5c_branch2b, <keras.layers.convolutional.Conv2D object at 0x7fce42b25b38>\n",
            "168 : bn5c_branch2b, <keras.layers.normalization.BatchNormalization object at 0x7fce42b25358>\n",
            "169 : activation_146, <keras.layers.core.Activation object at 0x7fce42b7eb00>\n",
            "170 : res5c_branch2c, <keras.layers.convolutional.Conv2D object at 0x7fce42b62320>\n",
            "171 : bn5c_branch2c, <keras.layers.normalization.BatchNormalization object at 0x7fce42b62780>\n",
            "172 : add_48, <keras.layers.merge.Add object at 0x7fce42b48e80>\n",
            "173 : activation_147, <keras.layers.core.Activation object at 0x7fce42ba3160>\n",
            "174 : avg_pool, <keras.layers.pooling.AveragePooling2D object at 0x7fce42b8fdd8>\n",
            "175 : global_average_pooling2d_3, <keras.layers.pooling.GlobalAveragePooling2D object at 0x7fce42c05358>\n",
            "176 : dense_3, <keras.layers.core.Dense object at 0x7fce4787d9b0>\n",
            "177 : dense_3__activation__, <keras.layers.core.Activation object at 0x7fce35d00240>\n",
            "CoreML model saved\n"
          ],
          "name": "stdout"
        }
      ]
    },
    {
      "metadata": {
        "id": "e3tD9PfHxwS9",
        "colab_type": "code",
        "colab": {}
      },
      "cell_type": "code",
      "source": [
        "# from google.colab import files\n",
        "# files.download('resnet50custom.mlmodel') "
      ],
      "execution_count": 0,
      "outputs": []
    },
    {
      "metadata": {
        "id": "GajFh5LaW8Rx",
        "colab_type": "code",
        "colab": {}
      },
      "cell_type": "code",
      "source": [
        "uploaded = drive.CreateFile()\n",
        "uploaded.SetContentFile('resnet50custom.mlmodel')\n",
        "uploaded.Upload()\n",
        "print('Uploaded file with ID {}'.format(uploaded.get('id')))"
      ],
      "execution_count": 0,
      "outputs": []
    }
  ]
}