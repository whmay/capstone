{
 "cells": [
  {
   "cell_type": "code",
   "execution_count": 17,
   "metadata": {},
   "outputs": [],
   "source": [
    "subscription_key = \"\"\n",
    "assert subscription_key"
   ]
  },
  {
   "cell_type": "code",
   "execution_count": 18,
   "metadata": {},
   "outputs": [],
   "source": [
    "vision_base_url = \"https://westcentralus.api.cognitive.microsoft.com/vision/v1.0/\""
   ]
  },
  {
   "cell_type": "code",
   "execution_count": 19,
   "metadata": {},
   "outputs": [],
   "source": [
    "vision_analyze_url = vision_base_url + \"analyze\""
   ]
  },
  {
   "cell_type": "code",
   "execution_count": 26,
   "metadata": {},
   "outputs": [],
   "source": [
    "import requests"
   ]
  },
  {
   "cell_type": "code",
   "execution_count": 29,
   "metadata": {
    "scrolled": true
   },
   "outputs": [
    {
     "name": "stdout",
     "output_type": "stream",
     "text": [
      "0      http://static.panoramio.com/photos/original/70...\n",
      "1      http://lh6.ggpht.com/-igpT6wu0mIA/ROV8HnUuABI/...\n",
      "2      https://upload.wikimedia.org/wikipedia/commons...\n",
      "3      https://lh3.googleusercontent.com/-LOW2cjAqubA...\n",
      "4      https://en.wikipedia.org/wiki/Coffee#/media/Fi...\n",
      "5      https://lh5.googleusercontent.com/-mEaSECO7D-4...\n",
      "6      http://lh6.ggpht.com/-cJMh9AYQGk8/SOkF_Q5PrjI/...\n",
      "7      https://lh4.googleusercontent.com/-Q_FvRlwaaa8...\n",
      "8      https://lh3.googleusercontent.com/-Px33Q-wekRI...\n",
      "9      http://lh3.ggpht.com/-KXyELwqwp_Q/Ry-qmQAqwUI/...\n",
      "10     https://lh3.googleusercontent.com/-Kt6d5AxAWP8...\n",
      "11     https://lh6.googleusercontent.com/-NzN4oVW-b8g...\n",
      "12     https://lh6.googleusercontent.com/-ox9DnxbO-cU...\n",
      "13     https://lh3.googleusercontent.com/-GTNxkF44dlY...\n",
      "14     http://lh3.ggpht.com/-Vr4xBpQuv0k/SCj5k22P3XI/...\n",
      "15     https://lh4.googleusercontent.com/-tMoBJaphC34...\n",
      "16     https://lh6.googleusercontent.com/-fgwgYyYZiVI...\n",
      "17     https://lh6.googleusercontent.com/-Kz7iu1q0zs0...\n",
      "18     http://lh5.ggpht.com/-nknnhd9tQ50/SZOsoTbk9VI/...\n",
      "19     https://lh6.googleusercontent.com/-Igkby7pShwQ...\n",
      "20     http://lh5.ggpht.com/-YMGgC1SfVLI/SJDg5CmUjkI/...\n",
      "21     http://lh4.ggpht.com/-m0WQj_3hYm8/S97hjgI_iMI/...\n",
      "22     http://lh4.ggpht.com/-SDuwblUbNVA/Rby6Wmz12CI/...\n",
      "23     http://lh3.ggpht.com/-GtgCG7ZNNDw/TWWRUVMMpUI/...\n",
      "24     http://lh6.ggpht.com/-Xc0B_C_xpfc/RsIor9h8-SI/...\n",
      "25     https://lh3.googleusercontent.com/-HEw25oECshU...\n",
      "26     https://lh6.googleusercontent.com/-zJn1KZ9DnnY...\n",
      "27     http://lh4.ggpht.com/-VmHRFFuqsrk/SxhfytdJrXI/...\n",
      "28     https://lh6.googleusercontent.com/-zBjqt9mKxfA...\n",
      "29     https://lh5.googleusercontent.com/-PIjbbGn9o0U...\n",
      "                             ...                        \n",
      "470    http://lh6.ggpht.com/-OuBNgRpF4TI/TmhgbtzjgrI/...\n",
      "471    https://lh4.googleusercontent.com/-4BIwRoZO77I...\n",
      "472    http://mw2.google.com/mw-panoramio/photos/medi...\n",
      "473    https://lh6.googleusercontent.com/-OnnQIwhMwFI...\n",
      "474    https://lh5.googleusercontent.com/-XpEl7dBsYV0...\n",
      "475    https://lh4.googleusercontent.com/-p6OXBFha4TE...\n",
      "476    http://lh6.ggpht.com/-1YSyTGKxr_Q/R8Hc6RkfqcI/...\n",
      "477    https://lh4.googleusercontent.com/-VHBmFgUua68...\n",
      "478    https://lh4.googleusercontent.com/-aoUH8vpWoJc...\n",
      "479    http://mw2.google.com/mw-panoramio/photos/medi...\n",
      "480    https://lh4.googleusercontent.com/-SU_4YNIlYwM...\n",
      "481    http://lh4.ggpht.com/-a-_Y58PbkqM/SXJp5FIZZNI/...\n",
      "482    https://lh4.googleusercontent.com/-FtQbv9j0LMQ...\n",
      "483    https://lh5.googleusercontent.com/-FpJtu0oN8_0...\n",
      "484    http://lh6.ggpht.com/-74IXsO1Hvq8/SJlrMhX-urI/...\n",
      "485    https://lh6.googleusercontent.com/-_eqy5i8acYg...\n",
      "486    https://lh3.googleusercontent.com/-HI95bm5ojzc...\n",
      "487    https://lh4.googleusercontent.com/-56RoV7t4O5g...\n",
      "488    https://lh6.googleusercontent.com/-I98VMeS_h5Q...\n",
      "489    http://lh5.ggpht.com/-85HITW-aHC4/TDI-PSAVAYI/...\n",
      "490    http://lh3.ggpht.com/-xG6xkhPXPA8/RnAw1myUuWI/...\n",
      "491    http://lh6.ggpht.com/-qSEvtZwzbko/SOirLfNAjwI/...\n",
      "492    http://lh5.ggpht.com/-UD8Fg5ickaw/STXGzOinIJI/...\n",
      "493    https://lh4.googleusercontent.com/-t9D5plzlfy4...\n",
      "494    http://lh6.ggpht.com/-7xdbyDGYmVA/Sf5A991QHBI/...\n",
      "495    https://lh5.googleusercontent.com/--1gXcfOq2rw...\n",
      "496    http://mw2.google.com/mw-panoramio/photos/medi...\n",
      "497    https://lh6.googleusercontent.com/-9tZXe7FXVRA...\n",
      "498    https://lh6.googleusercontent.com/-IGR097bl3_A...\n",
      "499    https://lh3.googleusercontent.com/-xy2fxD6IpmI...\n",
      "Name: url, Length: 500, dtype: object\n"
     ]
    }
   ],
   "source": [
    "import pandas as pd\n",
    "rawdata = pd.read_csv(\"/Users/hao/Desktop/pycode/train.csv\", nrows = 500)\n",
    "data = rawdata[\"url\"]\n",
    "print(data)\n",
    "image_url = \"http://static.panoramio.com/photos/original/70761397.jpg\""
   ]
  },
  {
   "cell_type": "code",
   "execution_count": 30,
   "metadata": {},
   "outputs": [
    {
     "name": "stdout",
     "output_type": "stream",
     "text": [
      "Bunker hill monument\n",
      "St. nicholas' church, tallinn\n",
      "Assisi\n",
      "Independence hall\n",
      "Petronas towers\n"
     ]
    }
   ],
   "source": [
    "headers  = {'Ocp-Apim-Subscription-Key': subscription_key}\n",
    "params   = {'model': 'landmarks'}\n",
    "for url in data:\n",
    "    image_url = url\n",
    "    landmark_analyze_url = vision_base_url + \"models/landmarks/analyze\"\n",
    "    data     = {'url': image_url}\n",
    "    response = requests.post(landmark_analyze_url, headers=headers, params=params, json=data)\n",
    "    try:\n",
    "        response.raise_for_status()\n",
    "        analysis      = response.json()\n",
    "        #print(analysis)\n",
    "        assert analysis[\"result\"][\"landmarks\"] is not []\n",
    "        landmark_name = analysis[\"result\"][\"landmarks\"][0][\"name\"].capitalize()\n",
    "        print(landmark_name)\n",
    "    except:continue"
   ]
  },
  {
   "cell_type": "code",
   "execution_count": null,
   "metadata": {},
   "outputs": [],
   "source": []
  },
  {
   "cell_type": "code",
   "execution_count": null,
   "metadata": {},
   "outputs": [],
   "source": []
  }
 ],
 "metadata": {
  "kernelspec": {
   "display_name": "Python 3",
   "language": "python",
   "name": "python3"
  },
  "language_info": {
   "codemirror_mode": {
    "name": "ipython",
    "version": 3
   },
   "file_extension": ".py",
   "mimetype": "text/x-python",
   "name": "python",
   "nbconvert_exporter": "python",
   "pygments_lexer": "ipython3",
   "version": "3.6.5"
  },
  "ms_docs_meta": {
   "author": "JuliaNik",
   "description": "Get information and code samples to help you quickly get started using Python and the Computer Vision API in Microsoft Cognitive Services.",
   "manager": "ytkuo",
   "ms.author": "juliakuz",
   "ms.date": "02/02/2018",
   "ms.service": "cognitive-services",
   "ms.technology": "computer-vision",
   "ms.topic": "article",
   "services": "cognitive-services",
   "title": "Computer Vision API Python quick start | Microsoft Docs",
   "titleSuffix": "Computer Vision API Python quick start | Microsoft Cognitive Services"
  }
 },
 "nbformat": 4,
 "nbformat_minor": 2
}
