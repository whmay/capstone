{
  "nbformat": 4,
  "nbformat_minor": 0,
  "metadata": {
    "colab": {
      "name": "landmark.ipynb",
      "version": "0.3.2",
      "provenance": [],
      "collapsed_sections": [],
      "include_colab_link": true
    },
    "kernelspec": {
      "name": "python3",
      "display_name": "Python 3"
    },
    "accelerator": "GPU"
  },
  "cells": [
    {
      "cell_type": "markdown",
      "metadata": {
        "id": "view-in-github",
        "colab_type": "text"
      },
      "source": [
        "[View in Colaboratory](https://colab.research.google.com/github/whmay/capstone/blob/master/landmark.ipynb)"
      ]
    },
    {
      "metadata": {
        "id": "i8uMPafTBgXr",
        "colab_type": "code",
        "colab": {}
      },
      "cell_type": "code",
      "source": [
        "!apt-get install -y -qq software-properties-common python-software-properties module-init-tools\n",
        "!add-apt-repository -y ppa:alessandro-strada/ppa 2>&1 > /dev/null\n",
        "!apt-get update -qq 2>&1 > /dev/null\n",
        "!apt-get -y install -qq google-drive-ocamlfuse fuse"
      ],
      "execution_count": 0,
      "outputs": []
    },
    {
      "metadata": {
        "id": "qRCkMZEIJr5R",
        "colab_type": "code",
        "colab": {}
      },
      "cell_type": "code",
      "source": [
        "!pip install -U -q PyDrive\n",
        "# Generate auth tokens for Colab\n",
        "from google.colab import auth\n",
        "from pydrive.auth import GoogleAuth\n",
        "from pydrive.drive import GoogleDrive\n",
        "from oauth2client.client import GoogleCredentials\n",
        "auth.authenticate_user()\n",
        "gauth = GoogleAuth()\n",
        "gauth.credentials = GoogleCredentials.get_application_default()\n",
        "drive = GoogleDrive(gauth)"
      ],
      "execution_count": 0,
      "outputs": []
    },
    {
      "metadata": {
        "id": "SaMBpCrnJ5go",
        "colab_type": "code",
        "colab": {}
      },
      "cell_type": "code",
      "source": [
        "# Generate creds for the Drive FUSE library.\n",
        "creds = GoogleCredentials.get_application_default()\n",
        "import getpass\n",
        "!google-drive-ocamlfuse -headless -id={creds.client_id} -secret={creds.client_secret} < /dev/null 2>&1 | grep URL\n",
        "vcode = getpass.getpass()\n",
        "!echo {vcode} | google-drive-ocamlfuse -headless -id={creds.client_id} -secret={creds.client_secret}"
      ],
      "execution_count": 0,
      "outputs": []
    },
    {
      "metadata": {
        "id": "J_HJrADVKHes",
        "colab_type": "code",
        "colab": {}
      },
      "cell_type": "code",
      "source": [
        "# Create a directory and mount Google Drive using that directory.\n",
        "!mkdir -p drive\n",
        "!google-drive-ocamlfuse drive\n",
        "\n",
        "print('Files in Drive:')\n",
        "!ls drive/\n"
      ],
      "execution_count": 0,
      "outputs": []
    },
    {
      "metadata": {
        "id": "2YaYRXskNPcg",
        "colab_type": "code",
        "colab": {}
      },
      "cell_type": "code",
      "source": [
        "!pip install keras\n",
        "!pip install h5py"
      ],
      "execution_count": 0,
      "outputs": []
    },
    {
      "metadata": {
        "id": "6t9oDgkMa0T9",
        "colab_type": "code",
        "colab": {}
      },
      "cell_type": "code",
      "source": [
        "#!pip install -U --force-reinstall --no-dependencies git+https://github.com/datumbox/keras@bugfix/trainable_bn\n",
        "#http://blog.datumbox.com/the-batch-normalization-layer-of-keras-is-broken/"
      ],
      "execution_count": 0,
      "outputs": []
    },
    {
      "metadata": {
        "id": "rHy6IwOiRzOV",
        "colab_type": "code",
        "colab": {
          "base_uri": "https://localhost:8080/",
          "height": 35
        },
        "outputId": "5fcea667-97ab-4952-d575-6ae9ceb8f70e"
      },
      "cell_type": "code",
      "source": [
        "#check whether you are using GPU\n",
        "import tensorflow as tf\n",
        "tf.test.gpu_device_name()"
      ],
      "execution_count": 6,
      "outputs": [
        {
          "output_type": "execute_result",
          "data": {
            "text/plain": [
              "'/device:GPU:0'"
            ]
          },
          "metadata": {
            "tags": []
          },
          "execution_count": 6
        }
      ]
    },
    {
      "metadata": {
        "id": "riZiRc9HRGxO",
        "colab_type": "code",
        "colab": {
          "base_uri": "https://localhost:8080/",
          "height": 432
        },
        "outputId": "82ac7f78-9d42-40d2-8163-f12e794d63a5"
      },
      "cell_type": "code",
      "source": [
        "!ls drive/Resnet2\n",
        "!cat drive/Resnet2/labels.txt\n"
      ],
      "execution_count": 7,
      "outputs": [
        {
          "output_type": "stream",
          "text": [
            "labels.txt  test  train\n",
            "鸟巢（国家体育场）\n",
            "颐和园\n",
            "雍和宫\n",
            "水立方（国家游泳中心）\n",
            "毛主席纪念堂\n",
            "桃坪羌寨\n",
            "树正瀑布\n",
            "松潘古城\n",
            "恭王府\n",
            "居庸关长城\n",
            "天安门广场\n",
            "圆明园\n",
            "北海公园\n",
            "前门大街\n",
            "凤凰岭自然风景区\n",
            "八达岭长城\n",
            "什刹海\n",
            "人民英雄纪念碑\n",
            "人民大会堂\n",
            "五彩池\n",
            "争艳池\n",
            "九曲黄河第一湾\n",
            "中国国家博物馆"
          ],
          "name": "stdout"
        }
      ]
    },
    {
      "metadata": {
        "id": "Fk1a8oxuEhZG",
        "colab_type": "code",
        "colab": {}
      },
      "cell_type": "code",
      "source": [
        "!pip install -U coremltools"
      ],
      "execution_count": 0,
      "outputs": []
    },
    {
      "metadata": {
        "id": "fIY2vRbwjLnD",
        "colab_type": "code",
        "colab": {
          "base_uri": "https://localhost:8080/",
          "height": 69
        },
        "outputId": "fb603ecc-a18a-49b3-f12f-c3c0f6c0fa0e"
      },
      "cell_type": "code",
      "source": [
        "from keras.applications.resnet50 import ResNet50\n",
        "from keras.models import Model,load_model\n",
        "from keras.layers import Dense,GlobalAveragePooling2D,Input\n",
        "from keras.preprocessing.image import ImageDataGenerator\n",
        "from keras.optimizers import Adadelta\n",
        "import keras\n",
        "import math, os, sys\n",
        "import matplotlib.pyplot as plt\n",
        "import coremltools\n",
        "\n",
        "\n",
        "\n",
        "def get_model():\n",
        "  \n",
        "    input_tensor = Input(shape=(224, 224, 3))  # this assumes K.image_data_format() == 'channels_last'\n",
        "\n",
        "    # create the base pre-trained model\n",
        "    base_model = ResNet50(input_tensor=input_tensor,weights='imagenet',include_top=False)\n",
        "    \n",
        "    #base_model = ResNet50(input_tensor=None,weights='imagenet',include_top=False)\n",
        "\n",
        "    for layer in base_model.layers:\n",
        "        layer.trainable=False\n",
        "\n",
        "    x = base_model.output\n",
        "    x = GlobalAveragePooling2D(data_format='channels_last')(x)\n",
        "    x = Dense(num_classes, activation='softmax')(x)\n",
        "\n",
        "    updatedModel = Model(base_model.input, x)\n",
        "\n",
        "    return  updatedModel\n",
        "\n",
        "\n",
        "\n",
        "def compile_model(compiledModel):\n",
        "\n",
        "    compiledModel.compile(loss=keras.losses.categorical_crossentropy,\n",
        "                  optimizer=Adadelta(),\n",
        "                  metrics=['accuracy'])\n",
        "\n",
        "\n",
        "def modelFitGenerator(fitModel):\n",
        "\n",
        "    num_train_samples = sum([len(files) for r, d, files in os.walk(train_data_dir)])\n",
        "    num_valid_samples = sum([len(files) for r, d, files in os.walk(validation_data_dir)])\n",
        "\n",
        "    num_train_steps = math.floor(num_train_samples/batch_size)\n",
        "    num_valid_steps = math.floor(num_valid_samples/batch_size)\n",
        "    \n",
        "    train_datagen = ImageDataGenerator(  \n",
        "      rotation_range=90,      \n",
        "      horizontal_flip=True,    \n",
        "      vertical_flip=True,\n",
        "      zoom_range=0.4)\n",
        "\n",
        "    test_datagen = ImageDataGenerator()\n",
        "\n",
        "    train_generator = train_datagen.flow_from_directory(\n",
        "      train_data_dir,\n",
        "      target_size=image_size ,\n",
        "      batch_size=batch_size,\n",
        "      class_mode='categorical', shuffle=True\n",
        "    )\n",
        "\n",
        "    validation_generator = test_datagen.flow_from_directory(\n",
        "      validation_data_dir,\n",
        "      target_size=image_size ,\n",
        "      batch_size=batch_size,\n",
        "      class_mode='categorical', shuffle=True\n",
        "    )\n",
        "\n",
        "    print(\"start history model\")\n",
        "    history = fitModel.fit_generator(\n",
        "      train_generator,\n",
        "      steps_per_epoch=num_train_steps,\n",
        "      epochs=nb_epoch,\n",
        "      validation_data=validation_generator,\n",
        "      validation_steps=num_valid_steps)\n",
        "    \n",
        "    printGraph(history)\n",
        "\n",
        "def printGraph(history):\n",
        "    \n",
        "    plt.plot(history.history['acc'])\n",
        "    plt.plot(history.history['val_acc'])\n",
        "    plt.title('model accuracy')\n",
        "    plt.ylabel('accuracy')\n",
        "    plt.xlabel('epoch')\n",
        "    plt.legend(['train', 'test'], loc='upper left')\n",
        "    plt.show()\n",
        "    # summarize history for loss\n",
        "    plt.plot(history.history['loss'])\n",
        "    plt.plot(history.history['val_loss'])\n",
        "    plt.title('model loss')\n",
        "    plt.ylabel('loss')\n",
        "    plt.xlabel('epoch')\n",
        "    plt.legend(['train', 'test'], loc='upper left')\n",
        "    plt.show()\n",
        "     \n",
        "    \n",
        "# def main():\n",
        "#     model = get_model()\n",
        "#     compile_model(model)\n",
        "#     modelFitGenerator(model)\n",
        "#     saveCoreMLModel(model)\n",
        "\n",
        "\n",
        "# if __name__ == '__main__':\n",
        "#     # constants\n",
        "#     image_size = (224, 224)\n",
        "#     train_data_dir = 'drive/Resnet/landmark/train' \n",
        "#     validation_data_dir = 'drive/Resnet/landmark/test'\n",
        "#     nb_epoch = 50\n",
        "#     batch_size = 16\n",
        "#     num_classes = 2\n",
        "#     main()\n"
      ],
      "execution_count": 9,
      "outputs": [
        {
          "output_type": "stream",
          "text": [
            "Using TensorFlow backend.\n",
            "WARNING:root:Keras version 2.1.6 detected. Last version known to be fully compatible of Keras is 2.1.3 .\n",
            "WARNING:root:TensorFlow version 1.10.1 detected. Last version known to be fully compatible is 1.5.0 .\n"
          ],
          "name": "stderr"
        }
      ]
    },
    {
      "metadata": {
        "id": "DoMZuvA39Lbl",
        "colab_type": "code",
        "colab": {}
      },
      "cell_type": "code",
      "source": [
        "image_size = (224, 224)\n",
        "train_data_dir = 'drive/Resnet2/train' \n",
        "validation_data_dir = 'drive/Resnet2/test'\n",
        "nb_epoch = 50\n",
        "batch_size = 16\n",
        "num_classes = 23"
      ],
      "execution_count": 0,
      "outputs": []
    },
    {
      "metadata": {
        "id": "wjV5n__69fpV",
        "colab_type": "code",
        "colab": {
          "base_uri": "https://localhost:8080/",
          "height": 2549
        },
        "outputId": "077e9e3f-ebbf-4601-8e33-256ba3c67503"
      },
      "cell_type": "code",
      "source": [
        "model = get_model()\n",
        "compile_model(model)\n",
        "modelFitGenerator(model)"
      ],
      "execution_count": 11,
      "outputs": [
        {
          "output_type": "stream",
          "text": [
            "Downloading data from https://github.com/fchollet/deep-learning-models/releases/download/v0.2/resnet50_weights_tf_dim_ordering_tf_kernels_notop.h5\n",
            "94658560/94653016 [==============================] - 13s 0us/step\n",
            "Found 1637 images belonging to 23 classes.\n",
            "Found 406 images belonging to 23 classes.\n",
            "start history model\n",
            "Epoch 1/50\n",
            "103/103 [==============================] - 1408s 14s/step - loss: 2.3119 - acc: 0.3432 - val_loss: 1.9056 - val_acc: 0.4550\n",
            "Epoch 2/50\n",
            "103/103 [==============================] - 266s 3s/step - loss: 1.3513 - acc: 0.5993 - val_loss: 1.7070 - val_acc: 0.5000\n",
            "Epoch 3/50\n",
            "103/103 [==============================] - 260s 3s/step - loss: 1.1089 - acc: 0.6641 - val_loss: 1.7045 - val_acc: 0.5100\n",
            "Epoch 4/50\n",
            "103/103 [==============================] - 258s 3s/step - loss: 0.9840 - acc: 0.6983 - val_loss: 1.5510 - val_acc: 0.5350\n",
            "Epoch 5/50\n",
            "103/103 [==============================] - 253s 2s/step - loss: 0.9027 - acc: 0.7116 - val_loss: 1.9238 - val_acc: 0.4775\n",
            "Epoch 6/50\n",
            "103/103 [==============================] - 253s 2s/step - loss: 0.8229 - acc: 0.7438 - val_loss: 1.4879 - val_acc: 0.5850\n",
            "Epoch 7/50\n",
            "103/103 [==============================] - 259s 3s/step - loss: 0.7785 - acc: 0.7583 - val_loss: 1.6292 - val_acc: 0.5325\n",
            "Epoch 8/50\n",
            "103/103 [==============================] - 258s 3s/step - loss: 0.7248 - acc: 0.7559 - val_loss: 1.3891 - val_acc: 0.5925\n",
            "Epoch 9/50\n",
            "103/103 [==============================] - 252s 2s/step - loss: 0.6983 - acc: 0.7754 - val_loss: 1.5510 - val_acc: 0.5725\n",
            "Epoch 10/50\n",
            "103/103 [==============================] - 250s 2s/step - loss: 0.6807 - acc: 0.7802 - val_loss: 1.5488 - val_acc: 0.5725\n",
            "Epoch 11/50\n",
            "103/103 [==============================] - 251s 2s/step - loss: 0.6740 - acc: 0.7776 - val_loss: 1.6562 - val_acc: 0.5625\n",
            "Epoch 12/50\n",
            "103/103 [==============================] - 255s 2s/step - loss: 0.6224 - acc: 0.7965 - val_loss: 1.7100 - val_acc: 0.5400\n",
            "Epoch 13/50\n",
            "103/103 [==============================] - 255s 2s/step - loss: 0.6144 - acc: 0.7985 - val_loss: 1.5641 - val_acc: 0.5725\n",
            "Epoch 14/50\n",
            "103/103 [==============================] - 253s 2s/step - loss: 0.5743 - acc: 0.8136 - val_loss: 1.4681 - val_acc: 0.5875\n",
            "Epoch 15/50\n",
            "103/103 [==============================] - 249s 2s/step - loss: 0.5832 - acc: 0.8117 - val_loss: 1.3924 - val_acc: 0.6050\n",
            "Epoch 16/50\n",
            "103/103 [==============================] - 246s 2s/step - loss: 0.5668 - acc: 0.8267 - val_loss: 1.4755 - val_acc: 0.6075\n",
            "Epoch 17/50\n",
            "103/103 [==============================] - 250s 2s/step - loss: 0.5153 - acc: 0.8271 - val_loss: 1.4623 - val_acc: 0.6175\n",
            "Epoch 18/50\n",
            "103/103 [==============================] - 253s 2s/step - loss: 0.5127 - acc: 0.8251 - val_loss: 1.4215 - val_acc: 0.6125\n",
            "Epoch 19/50\n",
            "103/103 [==============================] - 248s 2s/step - loss: 0.5218 - acc: 0.8312 - val_loss: 1.4491 - val_acc: 0.6100\n",
            "Epoch 20/50\n",
            "103/103 [==============================] - 253s 2s/step - loss: 0.5431 - acc: 0.8172 - val_loss: 1.4332 - val_acc: 0.6000\n",
            "Epoch 21/50\n",
            "103/103 [==============================] - 252s 2s/step - loss: 0.5021 - acc: 0.8341 - val_loss: 1.4631 - val_acc: 0.6125\n",
            "Epoch 22/50\n",
            "103/103 [==============================] - 254s 2s/step - loss: 0.4729 - acc: 0.8362 - val_loss: 1.4048 - val_acc: 0.5950\n",
            "Epoch 23/50\n",
            "103/103 [==============================] - 253s 2s/step - loss: 0.4854 - acc: 0.8359 - val_loss: 1.4910 - val_acc: 0.6200\n",
            "Epoch 24/50\n",
            "103/103 [==============================] - 253s 2s/step - loss: 0.4436 - acc: 0.8507 - val_loss: 1.5839 - val_acc: 0.5625\n",
            "Epoch 25/50\n",
            "103/103 [==============================] - 252s 2s/step - loss: 0.4516 - acc: 0.8488 - val_loss: 1.9612 - val_acc: 0.5550\n",
            "Epoch 26/50\n",
            "103/103 [==============================] - 255s 2s/step - loss: 0.4810 - acc: 0.8475 - val_loss: 1.6511 - val_acc: 0.5750\n",
            "Epoch 27/50\n",
            "103/103 [==============================] - 250s 2s/step - loss: 0.4577 - acc: 0.8506 - val_loss: 1.4920 - val_acc: 0.5825\n",
            "Epoch 28/50\n",
            "103/103 [==============================] - 249s 2s/step - loss: 0.4203 - acc: 0.8578 - val_loss: 1.6763 - val_acc: 0.5750\n",
            "Epoch 29/50\n",
            "103/103 [==============================] - 249s 2s/step - loss: 0.4448 - acc: 0.8432 - val_loss: 1.6698 - val_acc: 0.5825\n",
            "Epoch 30/50\n",
            "103/103 [==============================] - 254s 2s/step - loss: 0.4430 - acc: 0.8560 - val_loss: 1.6513 - val_acc: 0.5700\n",
            "Epoch 31/50\n",
            "103/103 [==============================] - 251s 2s/step - loss: 0.4516 - acc: 0.8530 - val_loss: 1.4928 - val_acc: 0.6200\n",
            "Epoch 32/50\n",
            "103/103 [==============================] - 250s 2s/step - loss: 0.4068 - acc: 0.8658 - val_loss: 1.5026 - val_acc: 0.6125\n",
            "Epoch 33/50\n",
            "103/103 [==============================] - 254s 2s/step - loss: 0.4349 - acc: 0.8615 - val_loss: 1.4466 - val_acc: 0.6075\n",
            "Epoch 34/50\n",
            "103/103 [==============================] - 252s 2s/step - loss: 0.3974 - acc: 0.8676 - val_loss: 1.5586 - val_acc: 0.6000\n",
            "Epoch 35/50\n",
            "103/103 [==============================] - 248s 2s/step - loss: 0.4292 - acc: 0.8561 - val_loss: 1.4854 - val_acc: 0.6200\n",
            "Epoch 36/50\n",
            "103/103 [==============================] - 251s 2s/step - loss: 0.3938 - acc: 0.8641 - val_loss: 1.4284 - val_acc: 0.6175\n",
            "Epoch 37/50\n",
            "103/103 [==============================] - 254s 2s/step - loss: 0.4001 - acc: 0.8590 - val_loss: 1.5814 - val_acc: 0.5825\n",
            "Epoch 38/50\n",
            "103/103 [==============================] - 252s 2s/step - loss: 0.3620 - acc: 0.8798 - val_loss: 1.4240 - val_acc: 0.6050\n",
            "Epoch 39/50\n",
            "103/103 [==============================] - 253s 2s/step - loss: 0.3978 - acc: 0.8683 - val_loss: 1.5430 - val_acc: 0.6125\n",
            "Epoch 40/50\n",
            "103/103 [==============================] - 249s 2s/step - loss: 0.3758 - acc: 0.8767 - val_loss: 1.4812 - val_acc: 0.6200\n",
            "Epoch 41/50\n",
            "103/103 [==============================] - 254s 2s/step - loss: 0.3863 - acc: 0.8707 - val_loss: 1.3262 - val_acc: 0.6350\n",
            "Epoch 42/50\n",
            "103/103 [==============================] - 247s 2s/step - loss: 0.3738 - acc: 0.8730 - val_loss: 1.4150 - val_acc: 0.6225\n",
            "Epoch 43/50\n",
            "103/103 [==============================] - 251s 2s/step - loss: 0.3449 - acc: 0.8816 - val_loss: 1.5889 - val_acc: 0.6125\n",
            "Epoch 44/50\n",
            "103/103 [==============================] - 249s 2s/step - loss: 0.3587 - acc: 0.8767 - val_loss: 1.5393 - val_acc: 0.5950\n",
            "Epoch 45/50\n",
            "103/103 [==============================] - 244s 2s/step - loss: 0.3223 - acc: 0.8956 - val_loss: 1.5321 - val_acc: 0.6125\n",
            "Epoch 46/50\n",
            "103/103 [==============================] - 244s 2s/step - loss: 0.3725 - acc: 0.8718 - val_loss: 1.3561 - val_acc: 0.6350\n",
            "Epoch 47/50\n",
            "103/103 [==============================] - 252s 2s/step - loss: 0.3523 - acc: 0.8822 - val_loss: 1.4162 - val_acc: 0.6425\n",
            "Epoch 48/50\n",
            "103/103 [==============================] - 251s 2s/step - loss: 0.3519 - acc: 0.8798 - val_loss: 1.6192 - val_acc: 0.6250\n",
            "Epoch 49/50\n",
            "103/103 [==============================] - 246s 2s/step - loss: 0.3481 - acc: 0.8869 - val_loss: 1.5152 - val_acc: 0.6300\n",
            "Epoch 50/50\n",
            "103/103 [==============================] - 246s 2s/step - loss: 0.3756 - acc: 0.8816 - val_loss: 1.5016 - val_acc: 0.6125\n"
          ],
          "name": "stdout"
        },
        {
          "output_type": "display_data",
          "data": {
            "image/png": "[encoded data removed]",
            "text/plain": [
              "<matplotlib.figure.Figure at 0x7f4861b9f828>"
            ]
          },
          "metadata": {
            "tags": []
          }
        },
        {
          "output_type": "display_data",
          "data": {
            "image/png": "[encoded data removed]",
            "text/plain": [
              "<matplotlib.figure.Figure at 0x7f4835777be0>"
            ]
          },
          "metadata": {
            "tags": []
          }
        }
      ]
    },
    {
      "metadata": {
        "id": "FSnGmK1o9lYh",
        "colab_type": "code",
        "colab": {}
      },
      "cell_type": "code",
      "source": [
        "def saveCoreMLModel(kerasModel):\n",
        "    coreml_model = coremltools.converters.keras.convert(kerasModel,\n",
        "                                                    input_names=['input'],\n",
        "                                                    output_names=['probs'],\n",
        "                                                    image_input_names='input',\n",
        "                                                    predicted_feature_name='predictedMoney',\n",
        "                                                    class_labels = 'drive/Resnet2/labels.txt')\n",
        "    coreml_model.save('resnet50custom.mlmodel') \n",
        "    print('CoreML model saved')\n",
        "    \n",
        "saveCoreMLModel(model)"
      ],
      "execution_count": 0,
      "outputs": []
    },
    {
      "metadata": {
        "id": "e3tD9PfHxwS9",
        "colab_type": "code",
        "colab": {}
      },
      "cell_type": "code",
      "source": [
        "from google.colab import files\n",
        "files.download('resnet50custom.mlmodel') "
      ],
      "execution_count": 0,
      "outputs": []
    },
    {
      "metadata": {
        "id": "GajFh5LaW8Rx",
        "colab_type": "code",
        "colab": {}
      },
      "cell_type": "code",
      "source": [
        "uploaded = drive.CreateFile()\n",
        "uploaded.SetContentFile('resnet50custom.mlmodel')\n",
        "uploaded.Upload()\n",
        "print('Uploaded file with ID {}'.format(uploaded.get('id')))"
      ],
      "execution_count": 0,
      "outputs": []
    }
  ]
}